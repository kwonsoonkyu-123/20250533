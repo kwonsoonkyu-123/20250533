{
  "nbformat": 4,
  "nbformat_minor": 0,
  "metadata": {
    "colab": {
      "provenance": []
    },
    "kernelspec": {
      "name": "python3",
      "display_name": "Python 3"
    },
    "language_info": {
      "name": "python"
    }
  },
  "cells": [
    {
      "cell_type": "code",
      "source": [
        "a = [2,3,4,5,6,]\n",
        "rev_a = []\n",
        "for _ in range(len(a)):\n",
        "  rev_a.append(a.pop())\n",
        "\n",
        "print(rev_a)"
      ],
      "metadata": {
        "colab": {
          "base_uri": "https://localhost:8080/"
        },
        "id": "ru555LWatqul",
        "outputId": "9d49ea1e-5208-432f-a4c6-2c262e29c7c9"
      },
      "execution_count": 5,
      "outputs": [
        {
          "output_type": "stream",
          "name": "stdout",
          "text": [
            "[6, 5, 4, 3, 2]\n"
          ]
        }
      ]
    },
    {
      "cell_type": "code",
      "source": [],
      "metadata": {
        "id": "r20ghHlNupVt"
      },
      "execution_count": null,
      "outputs": []
    }
  ]
}